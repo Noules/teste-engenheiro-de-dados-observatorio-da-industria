{
 "cells": [
  {
   "cell_type": "code",
   "execution_count": 1,
   "id": "eaa58c2a",
   "metadata": {
    "execution": {
     "iopub.execute_input": "2024-07-09T18:52:59.041285Z",
     "iopub.status.busy": "2024-07-09T18:52:59.040950Z",
     "iopub.status.idle": "2024-07-09T18:52:59.270105Z",
     "shell.execute_reply": "2024-07-09T18:52:59.269206Z"
    },
    "jupyter": {
     "source_hidden": true
    },
    "papermill": {
     "duration": 0.240721,
     "end_time": "2024-07-09T18:52:59.271978",
     "exception": false,
     "start_time": "2024-07-09T18:52:59.031257",
     "status": "completed"
    },
    "tags": []
   },
   "outputs": [],
   "source": [
    "# importe os pacotes aqui\n",
    "import os\n",
    "import requests\n",
    "from cryptography.fernet import Fernet\n",
    "from pyspark.sql import SparkSession\n",
    "from pyspark.sql.functions import explode, col\n",
    "from pyspark.sql.types import StructType, StructField, StringType, MapType, ArrayType"
   ]
  },
  {
   "cell_type": "code",
   "execution_count": 2,
   "id": "0c6a4ebe",
   "metadata": {
    "execution": {
     "iopub.execute_input": "2024-07-09T18:52:59.299207Z",
     "iopub.status.busy": "2024-07-09T18:52:59.298441Z",
     "iopub.status.idle": "2024-07-09T18:53:01.983555Z",
     "shell.execute_reply": "2024-07-09T18:53:01.982641Z"
    },
    "jupyter": {
     "source_hidden": true
    },
    "papermill": {
     "duration": 2.706456,
     "end_time": "2024-07-09T18:53:01.985258",
     "exception": false,
     "start_time": "2024-07-09T18:52:59.278802",
     "status": "completed"
    },
    "tags": []
   },
   "outputs": [
    {
     "name": "stderr",
     "output_type": "stream",
     "text": [
      "/home/airflow/.local/lib/python3.11/site-packages/pyspark/bin/load-spark-env.sh: line 68: ps: command not found\n"
     ]
    },
    {
     "name": "stderr",
     "output_type": "stream",
     "text": [
      "Setting default log level to \"WARN\".\n",
      "To adjust logging level use sc.setLogLevel(newLevel). For SparkR, use setLogLevel(newLevel).\n"
     ]
    }
   ],
   "source": [
    "# url para o cojunto de dados \n",
    "url = \"https://servicodados.ibge.gov.br/api/v3/agregados/1839/periodos/2022/variaveis/630?localidades=N1[all]\"\n",
    "\n",
    "fernet_key = Fernet.generate_key().decode()\n",
    "secret_key = os.urandom(24).hex()\n",
    "\n",
    "# Iniciando uma sessão Spark\n",
    "spark = SparkSession.builder \\\n",
    "    .appName(\"Pesquisa Industrial Anual - Empresas\") \\\n",
    "    .getOrCreate()"
   ]
  },
  {
   "cell_type": "code",
   "execution_count": 3,
   "id": "7039af76",
   "metadata": {
    "execution": {
     "iopub.execute_input": "2024-07-09T18:53:02.008030Z",
     "iopub.status.busy": "2024-07-09T18:53:02.007672Z",
     "iopub.status.idle": "2024-07-09T18:53:08.334428Z",
     "shell.execute_reply": "2024-07-09T18:53:08.332238Z"
    },
    "jupyter": {
     "source_hidden": true
    },
    "papermill": {
     "duration": 6.346418,
     "end_time": "2024-07-09T18:53:08.337521",
     "exception": false,
     "start_time": "2024-07-09T18:53:01.991103",
     "status": "completed"
    },
    "tags": []
   },
   "outputs": [
    {
     "name": "stderr",
     "output_type": "stream",
     "text": [
      "\r",
      "[Stage 0:>                                                          (0 + 1) / 1]\r"
     ]
    },
    {
     "name": "stderr",
     "output_type": "stream",
     "text": [
      "\r",
      "                                                                                \r"
     ]
    },
    {
     "name": "stdout",
     "output_type": "stream",
     "text": [
      "+---+------------------+--------+----------------+-------------------------+-----------------------+-------------+--------+----------+---------------+----------------+\n",
      "|id |variavel          |unidade |classificacao_id|classificacao_nome       |classificacao_categoria|localidade_id|nivel_id|nivel_nome|localidade_nome|serie           |\n",
      "+---+------------------+--------+----------------+-------------------------+-----------------------+-------------+--------+----------+---------------+----------------+\n",
      "|630|Número de empresas|Unidades|319             |Faixas de pessoal ocupado|{104029 -> Total}      |1            |N1      |Brasil    |Brasil         |{2022 -> 346105}|\n",
      "|630|Número de empresas|Unidades|9117            |Tipo de indústria        |{99735 -> Total}       |1            |N1      |Brasil    |Brasil         |{2022 -> 346105}|\n",
      "+---+------------------+--------+----------------+-------------------------+-----------------------+-------------+--------+----------+---------------+----------------+\n",
      "\n"
     ]
    }
   ],
   "source": [
    "# escreva o código de extração e transformação a partir daqui\n",
    "response = requests.get(url)\n",
    "data = response.json()\n",
    "\n",
    "# Definindo o mapeamento do schema\n",
    "schema = StructType([\n",
    "    StructField(\"id\", StringType(), True),\n",
    "    StructField(\"variavel\", StringType(), True),\n",
    "    StructField(\"unidade\", StringType(), True),\n",
    "    StructField(\"resultados\", ArrayType(\n",
    "        StructType([\n",
    "            StructField(\"classificacoes\", ArrayType(\n",
    "                StructType([\n",
    "                    StructField(\"id\", StringType(), True),\n",
    "                    StructField(\"nome\", StringType(), True),\n",
    "                    StructField(\"categoria\", MapType(StringType(), StringType()), True)\n",
    "                ])\n",
    "            ), True),\n",
    "            StructField(\"series\", ArrayType(\n",
    "                StructType([\n",
    "                    StructField(\"localidade\", StructType([\n",
    "                        StructField(\"id\", StringType(), True),\n",
    "                        StructField(\"nivel\", StructType([\n",
    "                            StructField(\"id\", StringType(), True),\n",
    "                            StructField(\"nome\", StringType(), True)\n",
    "                        ]), True),\n",
    "                        StructField(\"nome\", StringType(), True)\n",
    "                    ]), True),\n",
    "                    StructField(\"serie\", MapType(StringType(), StringType()), True)\n",
    "                ])\n",
    "            ), True)\n",
    "        ])\n",
    "    ), True)\n",
    "])\n",
    "\n",
    "# Convertendo os dados para um RDD e criando o DataFrame Spark\n",
    "rdd = spark.sparkContext.parallelize(data)\n",
    "df = spark.read.json(rdd, schema=schema)\n",
    "\n",
    "# Alterando as estruturas aninhadas para facilitar a análise\n",
    "df_exploded = df.withColumn(\"resultados\", explode(col(\"resultados\"))) \\\n",
    "                .withColumn(\"classificacoes\", explode(col(\"resultados.classificacoes\"))) \\\n",
    "                .withColumn(\"series\", explode(col(\"resultados.series\"))) \\\n",
    "                .select(\n",
    "                    \"id\", \"variavel\", \"unidade\",\n",
    "                    col(\"classificacoes.id\").alias(\"classificacao_id\"),\n",
    "                    col(\"classificacoes.nome\").alias(\"classificacao_nome\"),\n",
    "                    col(\"classificacoes.categoria\").alias(\"classificacao_categoria\"),\n",
    "                    col(\"series.localidade.id\").alias(\"localidade_id\"),\n",
    "                    col(\"series.localidade.nivel.id\").alias(\"nivel_id\"),\n",
    "                    col(\"series.localidade.nivel.nome\").alias(\"nivel_nome\"),\n",
    "                    col(\"series.localidade.nome\").alias(\"localidade_nome\"),\n",
    "                    col(\"series.serie\").alias(\"serie\")\n",
    "                )\n",
    "\n",
    "\n",
    "df_exploded.show(truncate=False)\n",
    "\n",
    "# Finalizando a sessão do Spark\n",
    "spark.stop()"
   ]
  }
 ],
 "metadata": {
  "kernelspec": {
   "display_name": ".venv",
   "language": "python",
   "name": "python3"
  },
  "language_info": {
   "codemirror_mode": {
    "name": "ipython",
    "version": 3
   },
   "file_extension": ".py",
   "mimetype": "text/x-python",
   "name": "python",
   "nbconvert_exporter": "python",
   "pygments_lexer": "ipython3",
   "version": "3.11.8"
  },
  "papermill": {
   "default_parameters": {},
   "duration": 13.246686,
   "end_time": "2024-07-09T18:53:10.965114",
   "environment_variables": {},
   "exception": null,
   "input_path": "/opt/airflow/dags/pesquisa_industrial_anual_empresas/notebooks/workspace.ipynb",
   "output_path": "/opt/airflow/dags/resultado/pesquisa_industrial_anual_empresas_workspace_2024-07-09.ipynb",
   "parameters": {},
   "start_time": "2024-07-09T18:52:57.718428",
   "version": "2.6.0"
  }
 },
 "nbformat": 4,
 "nbformat_minor": 5
}