{
 "cells": [
  {
   "cell_type": "code",
   "execution_count": 1,
   "id": "eaa58c2a",
   "metadata": {
    "execution": {
     "iopub.execute_input": "2024-07-09T18:22:49.790368Z",
     "iopub.status.busy": "2024-07-09T18:22:49.789691Z",
     "iopub.status.idle": "2024-07-09T18:22:50.053456Z",
     "shell.execute_reply": "2024-07-09T18:22:50.052822Z"
    },
    "jupyter": {
     "source_hidden": true
    },
    "papermill": {
     "duration": 0.272394,
     "end_time": "2024-07-09T18:22:50.055035",
     "exception": false,
     "start_time": "2024-07-09T18:22:49.782641",
     "status": "completed"
    },
    "tags": []
   },
   "outputs": [],
   "source": [
    "# importe os pacotes aqui\n",
    "import os\n",
    "import requests\n",
    "from cryptography.fernet import Fernet\n",
    "from pyspark.sql import SparkSession\n",
    "from pyspark.sql.functions import explode, col\n",
    "from pyspark.sql.types import StructType, StructField, StringType, MapType, ArrayType"
   ]
  },
  {
   "cell_type": "code",
   "execution_count": null,
   "id": "0c6a4ebe",
   "metadata": {
    "execution": {
     "iopub.execute_input": "2024-07-09T18:22:53.103454Z",
     "iopub.status.busy": "2024-07-09T18:22:53.103171Z",
     "iopub.status.idle": "2024-07-09T18:22:59.533729Z",
     "shell.execute_reply": "2024-07-09T18:22:59.533091Z"
    },
    "jupyter": {
     "source_hidden": true
    },
    "papermill": {
     "duration": 6.445055,
     "end_time": "2024-07-09T18:22:59.535279",
     "exception": false,
     "start_time": "2024-07-09T18:22:53.090224",
     "status": "completed"
    },
    "tags": []
   },
   "outputs": [],
   "source": [
    "# url para o cojunto de dados \n",
    "url = \"https://servicodados.ibge.gov.br/api/v3/agregados/1839/periodos/2022/variaveis/630?localidades=N1[all]\"\n",
    "\n",
    "fernet_key = Fernet.generate_key().decode()\n",
    "secret_key = os.urandom(24).hex()\n",
    "\n",
    "# Iniciando uma sessão Spark\n",
    "spark = SparkSession.builder \\\n",
    "    .appName(\"Pesquisa Industrial Anual - Empresas\") \\\n",
    "    .getOrCreate()"
   ]
  },
  {
   "cell_type": "code",
   "execution_count": 5,
   "id": "7039af76",
   "metadata": {
    "execution": {
     "iopub.execute_input": "2024-07-09T18:22:59.560033Z",
     "iopub.status.busy": "2024-07-09T18:22:59.559773Z",
     "iopub.status.idle": "2024-07-09T18:22:59.563928Z",
     "shell.execute_reply": "2024-07-09T18:22:59.562576Z"
    },
    "jupyter": {
     "source_hidden": true
    },
    "papermill": {
     "duration": 0.024252,
     "end_time": "2024-07-09T18:22:59.565181",
     "exception": false,
     "start_time": "2024-07-09T18:22:59.540929",
     "status": "completed"
    },
    "tags": []
   },
   "outputs": [],
   "source": [
    "# escreva o código de extração e transformação a partir daqui\n",
    "response = requests.get(url)\n",
    "data = response.json()\n",
    "\n",
    "# Definindo o mapeamento do schema\n",
    "schema = StructType([\n",
    "    StructField(\"id\", StringType(), True),\n",
    "    StructField(\"variavel\", StringType(), True),\n",
    "    StructField(\"unidade\", StringType(), True),\n",
    "    StructField(\"resultados\", ArrayType(\n",
    "        StructType([\n",
    "            StructField(\"classificacoes\", ArrayType(\n",
    "                StructType([\n",
    "                    StructField(\"id\", StringType(), True),\n",
    "                    StructField(\"nome\", StringType(), True),\n",
    "                    StructField(\"categoria\", MapType(StringType(), StringType()), True)\n",
    "                ])\n",
    "            ), True),\n",
    "            StructField(\"series\", ArrayType(\n",
    "                StructType([\n",
    "                    StructField(\"localidade\", StructType([\n",
    "                        StructField(\"id\", StringType(), True),\n",
    "                        StructField(\"nivel\", StructType([\n",
    "                            StructField(\"id\", StringType(), True),\n",
    "                            StructField(\"nome\", StringType(), True)\n",
    "                        ]), True),\n",
    "                        StructField(\"nome\", StringType(), True)\n",
    "                    ]), True),\n",
    "                    StructField(\"serie\", MapType(StringType(), StringType()), True)\n",
    "                ])\n",
    "            ), True)\n",
    "        ])\n",
    "    ), True)\n",
    "])\n",
    "\n",
    "# Convertendo os dados para um RDD e criando o DataFrame Spark\n",
    "rdd = spark.sparkContext.parallelize(data)\n",
    "df = spark.read.json(rdd, schema=schema)\n",
    "\n",
    "# Alterando as estruturas aninhadas para facilitar a análise\n",
    "df_exploded = df.withColumn(\"resultados\", explode(col(\"resultados\"))) \\\n",
    "                .withColumn(\"classificacoes\", explode(col(\"resultados.classificacoes\"))) \\\n",
    "                .withColumn(\"series\", explode(col(\"resultados.series\"))) \\\n",
    "                .select(\n",
    "                    \"id\", \"variavel\", \"unidade\",\n",
    "                    col(\"classificacoes.id\").alias(\"classificacao_id\"),\n",
    "                    col(\"classificacoes.nome\").alias(\"classificacao_nome\"),\n",
    "                    col(\"classificacoes.categoria\").alias(\"classificacao_categoria\"),\n",
    "                    col(\"series.localidade.id\").alias(\"localidade_id\"),\n",
    "                    col(\"series.localidade.nivel.id\").alias(\"nivel_id\"),\n",
    "                    col(\"series.localidade.nivel.nome\").alias(\"nivel_nome\"),\n",
    "                    col(\"series.localidade.nome\").alias(\"localidade_nome\"),\n",
    "                    col(\"series.serie\").alias(\"serie\")\n",
    "                )\n",
    "\n",
    "\n",
    "df_exploded.show(truncate=False)\n",
    "\n",
    "# Finalizando a sessão do Spark\n",
    "spark.stop()"
   ]
  }
 ],
 "metadata": {
  "kernelspec": {
   "display_name": ".venv",
   "language": "python",
   "name": "python3"
  },
  "language_info": {
   "codemirror_mode": {
    "name": "ipython",
    "version": 3
   },
   "file_extension": ".py",
   "mimetype": "text/x-python",
   "name": "python",
   "nbconvert_exporter": "python",
   "pygments_lexer": "ipython3",
   "version": "3.9.13"
  },
  "papermill": {
   "default_parameters": {},
   "duration": 13.717882,
   "end_time": "2024-07-09T18:23:02.192293",
   "environment_variables": {},
   "exception": null,
   "input_path": "/opt/airflow/dags/pesquisa_industrial_anual_empresas/notebooks/workspace.ipynb",
   "output_path": "/opt/airflow/dags/resultado/pesquisa_industrial_anual_empresas_workspace_2024-07-09.ipynb",
   "parameters": {},
   "start_time": "2024-07-09T18:22:48.474411",
   "version": "2.6.0"
  }
 },
 "nbformat": 4,
 "nbformat_minor": 5
}
